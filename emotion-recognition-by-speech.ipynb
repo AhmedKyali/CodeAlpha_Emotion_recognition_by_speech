{
 "cells": [
  {
   "cell_type": "markdown",
   "id": "6990395c",
   "metadata": {
    "_cell_guid": "b1076dfc-b9ad-4769-8c92-a6c4dae69d19",
    "_uuid": "8f2839f25d086af736a60e9eeb907d3b93b6e0e5",
    "execution": {
     "iopub.execute_input": "2024-06-18T12:53:58.648540Z",
     "iopub.status.busy": "2024-06-18T12:53:58.648150Z",
     "iopub.status.idle": "2024-06-18T12:54:12.445568Z",
     "shell.execute_reply": "2024-06-18T12:54:12.444761Z",
     "shell.execute_reply.started": "2024-06-18T12:53:58.648504Z"
    },
    "papermill": {
     "duration": 0.008546,
     "end_time": "2024-06-18T15:58:32.181315",
     "exception": false,
     "start_time": "2024-06-18T15:58:32.172769",
     "status": "completed"
    },
    "tags": []
   },
   "source": [
    "\n",
    "**<h1 style=\"margin-left:30%;\">Emotion Recognition from Speech</h1>**\n",
    "\n",
    "<img src=\"https://miro.medium.com/v2/resize:fit:942/1*ILD0O04u2ofXrqC8h34oOg.png\" alt=\"image\" width=\"1300\" height=\"auto\">\n",
    "\n"
   ]
  },
  {
   "cell_type": "markdown",
   "id": "fbf4b382",
   "metadata": {
    "papermill": {
     "duration": 0.007724,
     "end_time": "2024-06-18T15:58:32.197071",
     "exception": false,
     "start_time": "2024-06-18T15:58:32.189347",
     "status": "completed"
    },
    "tags": []
   },
   "source": [
    "## Import usefull libraries."
   ]
  },
  {
   "cell_type": "code",
   "execution_count": 1,
   "id": "09abd5eb",
   "metadata": {
    "execution": {
     "iopub.execute_input": "2024-06-18T15:58:32.214162Z",
     "iopub.status.busy": "2024-06-18T15:58:32.213819Z",
     "iopub.status.idle": "2024-06-18T15:58:46.203539Z",
     "shell.execute_reply": "2024-06-18T15:58:46.202527Z"
    },
    "papermill": {
     "duration": 14.001071,
     "end_time": "2024-06-18T15:58:46.205894",
     "exception": false,
     "start_time": "2024-06-18T15:58:32.204823",
     "status": "completed"
    },
    "tags": []
   },
   "outputs": [
    {
     "name": "stderr",
     "output_type": "stream",
     "text": [
      "2024-06-18 15:58:34.713394: E external/local_xla/xla/stream_executor/cuda/cuda_dnn.cc:9261] Unable to register cuDNN factory: Attempting to register factory for plugin cuDNN when one has already been registered\n",
      "2024-06-18 15:58:34.713525: E external/local_xla/xla/stream_executor/cuda/cuda_fft.cc:607] Unable to register cuFFT factory: Attempting to register factory for plugin cuFFT when one has already been registered\n",
      "2024-06-18 15:58:34.850221: E external/local_xla/xla/stream_executor/cuda/cuda_blas.cc:1515] Unable to register cuBLAS factory: Attempting to register factory for plugin cuBLAS when one has already been registered\n"
     ]
    }
   ],
   "source": [
    "import numpy as np\n",
    "import pandas as pd\n",
    "import tensorflow as tf\n",
    "import matplotlib.pyplot as plt\n",
    "import os\n",
    "import librosa\n",
    "import librosa.display\n",
    "from sklearn.preprocessing import LabelEncoder\n",
    "from tensorflow.keras import layers, models, callbacks\n",
    "from keras.layers import Dense, Conv1D, MaxPooling1D, Dropout, Flatten\n",
    "from keras.utils import plot_model\n",
    "from sklearn.model_selection import train_test_split\n",
    "from keras.utils import to_categorical\n",
    "import keras.backend as k\n",
    "from matplotlib import pyplot\n",
    "import warnings\n",
    "import seaborn as sns\n",
    "warnings.filterwarnings ('ignore')"
   ]
  },
  {
   "cell_type": "markdown",
   "id": "c32bfd91",
   "metadata": {
    "papermill": {
     "duration": 0.008602,
     "end_time": "2024-06-18T15:58:46.225642",
     "exception": false,
     "start_time": "2024-06-18T15:58:46.217040",
     "status": "completed"
    },
    "tags": []
   },
   "source": [
    "## Data Importing & Storing.\n",
    "\n",
    "Import the data from [TESS](https://www.kaggle.com/datasets/ejlok1/toronto-emotional-speech-set-tess) on kaggle."
   ]
  },
  {
   "cell_type": "code",
   "execution_count": 2,
   "id": "89ad99bc",
   "metadata": {
    "execution": {
     "iopub.execute_input": "2024-06-18T15:58:46.244045Z",
     "iopub.status.busy": "2024-06-18T15:58:46.242975Z",
     "iopub.status.idle": "2024-06-18T15:58:46.248095Z",
     "shell.execute_reply": "2024-06-18T15:58:46.247162Z"
    },
    "papermill": {
     "duration": 0.016401,
     "end_time": "2024-06-18T15:58:46.250172",
     "exception": false,
     "start_time": "2024-06-18T15:58:46.233771",
     "status": "completed"
    },
    "tags": []
   },
   "outputs": [],
   "source": [
    "all_wav = []\n",
    "all_label = []"
   ]
  },
  {
   "cell_type": "code",
   "execution_count": 3,
   "id": "d9c9fc4c",
   "metadata": {
    "execution": {
     "iopub.execute_input": "2024-06-18T15:58:46.267635Z",
     "iopub.status.busy": "2024-06-18T15:58:46.267319Z",
     "iopub.status.idle": "2024-06-18T15:58:47.922022Z",
     "shell.execute_reply": "2024-06-18T15:58:47.921101Z"
    },
    "papermill": {
     "duration": 1.665833,
     "end_time": "2024-06-18T15:58:47.924164",
     "exception": false,
     "start_time": "2024-06-18T15:58:46.258331",
     "status": "completed"
    },
    "tags": []
   },
   "outputs": [
    {
     "name": "stdout",
     "output_type": "stream",
     "text": [
      "/kaggle/input/toronto-emotional-speech-set-tess/TESS Toronto emotional speech set data/YAF_fear/YAF_home_fear.wav\n",
      "fear\n"
     ]
    }
   ],
   "source": [
    "#Extract the label name from the wav name\n",
    "#Append the path of the voice with the label of it\n",
    "for dirname, _, filenames in os.walk('/kaggle/input'):\n",
    "    for filename in filenames:\n",
    "        all_wav.append(os.path.join(dirname, filename))\n",
    "        all_label.append((filename.split('_')[-1].split('.')[0]).lower())\n",
    "print(all_wav[0])\n",
    "print(all_label[0])"
   ]
  },
  {
   "cell_type": "code",
   "execution_count": 4,
   "id": "7bd8559b",
   "metadata": {
    "execution": {
     "iopub.execute_input": "2024-06-18T15:58:47.942445Z",
     "iopub.status.busy": "2024-06-18T15:58:47.942150Z",
     "iopub.status.idle": "2024-06-18T15:58:47.971913Z",
     "shell.execute_reply": "2024-06-18T15:58:47.971076Z"
    },
    "papermill": {
     "duration": 0.040645,
     "end_time": "2024-06-18T15:58:47.973884",
     "exception": false,
     "start_time": "2024-06-18T15:58:47.933239",
     "status": "completed"
    },
    "tags": []
   },
   "outputs": [
    {
     "data": {
      "text/html": [
       "<div>\n",
       "<style scoped>\n",
       "    .dataframe tbody tr th:only-of-type {\n",
       "        vertical-align: middle;\n",
       "    }\n",
       "\n",
       "    .dataframe tbody tr th {\n",
       "        vertical-align: top;\n",
       "    }\n",
       "\n",
       "    .dataframe thead th {\n",
       "        text-align: right;\n",
       "    }\n",
       "</style>\n",
       "<table border=\"1\" class=\"dataframe\">\n",
       "  <thead>\n",
       "    <tr style=\"text-align: right;\">\n",
       "      <th></th>\n",
       "      <th>Wav</th>\n",
       "      <th>Label</th>\n",
       "    </tr>\n",
       "  </thead>\n",
       "  <tbody>\n",
       "    <tr>\n",
       "      <th>0</th>\n",
       "      <td>/kaggle/input/toronto-emotional-speech-set-tes...</td>\n",
       "      <td>fear</td>\n",
       "    </tr>\n",
       "    <tr>\n",
       "      <th>1</th>\n",
       "      <td>/kaggle/input/toronto-emotional-speech-set-tes...</td>\n",
       "      <td>fear</td>\n",
       "    </tr>\n",
       "    <tr>\n",
       "      <th>2</th>\n",
       "      <td>/kaggle/input/toronto-emotional-speech-set-tes...</td>\n",
       "      <td>fear</td>\n",
       "    </tr>\n",
       "    <tr>\n",
       "      <th>3</th>\n",
       "      <td>/kaggle/input/toronto-emotional-speech-set-tes...</td>\n",
       "      <td>fear</td>\n",
       "    </tr>\n",
       "    <tr>\n",
       "      <th>4</th>\n",
       "      <td>/kaggle/input/toronto-emotional-speech-set-tes...</td>\n",
       "      <td>fear</td>\n",
       "    </tr>\n",
       "  </tbody>\n",
       "</table>\n",
       "</div>"
      ],
      "text/plain": [
       "                                                 Wav Label\n",
       "0  /kaggle/input/toronto-emotional-speech-set-tes...  fear\n",
       "1  /kaggle/input/toronto-emotional-speech-set-tes...  fear\n",
       "2  /kaggle/input/toronto-emotional-speech-set-tes...  fear\n",
       "3  /kaggle/input/toronto-emotional-speech-set-tes...  fear\n",
       "4  /kaggle/input/toronto-emotional-speech-set-tes...  fear"
      ]
     },
     "execution_count": 4,
     "metadata": {},
     "output_type": "execute_result"
    }
   ],
   "source": [
    "#Create DataFrame and put the data in it to be easier to access and releate between the data\n",
    "df = pd.DataFrame()\n",
    "df['Wav'] = all_wav\n",
    "df['Label'] = all_label\n",
    "df.head()"
   ]
  },
  {
   "cell_type": "code",
   "execution_count": 5,
   "id": "9e771200",
   "metadata": {
    "execution": {
     "iopub.execute_input": "2024-06-18T15:58:47.991553Z",
     "iopub.status.busy": "2024-06-18T15:58:47.991277Z",
     "iopub.status.idle": "2024-06-18T15:58:47.999911Z",
     "shell.execute_reply": "2024-06-18T15:58:47.998993Z"
    },
    "papermill": {
     "duration": 0.019532,
     "end_time": "2024-06-18T15:58:48.001697",
     "exception": false,
     "start_time": "2024-06-18T15:58:47.982165",
     "status": "completed"
    },
    "tags": []
   },
   "outputs": [
    {
     "data": {
      "text/plain": [
       "array(['fear', 'angry', 'disgust', 'neutral', 'sad', 'ps', 'happy'],\n",
       "      dtype=object)"
      ]
     },
     "execution_count": 5,
     "metadata": {},
     "output_type": "execute_result"
    }
   ],
   "source": [
    "#Extract the classes\n",
    "Labels = df['Label'].unique()\n",
    "Labels"
   ]
  },
  {
   "cell_type": "markdown",
   "id": "ecae52ae",
   "metadata": {
    "papermill": {
     "duration": 0.008115,
     "end_time": "2024-06-18T15:58:48.018156",
     "exception": false,
     "start_time": "2024-06-18T15:58:48.010041",
     "status": "completed"
    },
    "tags": []
   },
   "source": [
    "## Data Preprocessing.\n",
    "\n",
    "1. Load the data using **librosa**.\n",
    "1. Feature Extraction using Mel spectrograms, which are well-suited for capturing audio features.\n",
    "1. normalize the spectrograms using Z-score normalization.\n",
    "1. Padding is handled to ensure consistent input shapes.\n"
   ]
  },
  {
   "cell_type": "code",
   "execution_count": 6,
   "id": "059f8b29",
   "metadata": {
    "execution": {
     "iopub.execute_input": "2024-06-18T15:58:48.035984Z",
     "iopub.status.busy": "2024-06-18T15:58:48.035696Z",
     "iopub.status.idle": "2024-06-18T15:58:48.040089Z",
     "shell.execute_reply": "2024-06-18T15:58:48.039272Z"
    },
    "papermill": {
     "duration": 0.015525,
     "end_time": "2024-06-18T15:58:48.041973",
     "exception": false,
     "start_time": "2024-06-18T15:58:48.026448",
     "status": "completed"
    },
    "tags": []
   },
   "outputs": [],
   "source": [
    "def z_score_normalize(data):\n",
    "    mean = np.mean(data)\n",
    "    std = np.std(data)\n",
    "    normalized_data = (data - mean) / std\n",
    "    return normalized_data"
   ]
  },
  {
   "cell_type": "code",
   "execution_count": 7,
   "id": "7b59c061",
   "metadata": {
    "execution": {
     "iopub.execute_input": "2024-06-18T15:58:48.059624Z",
     "iopub.status.busy": "2024-06-18T15:58:48.059335Z",
     "iopub.status.idle": "2024-06-18T15:58:48.063246Z",
     "shell.execute_reply": "2024-06-18T15:58:48.062515Z"
    },
    "papermill": {
     "duration": 0.014841,
     "end_time": "2024-06-18T15:58:48.065029",
     "exception": false,
     "start_time": "2024-06-18T15:58:48.050188",
     "status": "completed"
    },
    "tags": []
   },
   "outputs": [],
   "source": [
    "all_wave = []\n",
    "all_label = []"
   ]
  },
  {
   "cell_type": "code",
   "execution_count": 8,
   "id": "c503b416",
   "metadata": {
    "execution": {
     "iopub.execute_input": "2024-06-18T15:58:48.082730Z",
     "iopub.status.busy": "2024-06-18T15:58:48.082469Z",
     "iopub.status.idle": "2024-06-18T16:01:30.784570Z",
     "shell.execute_reply": "2024-06-18T16:01:30.783016Z"
    },
    "papermill": {
     "duration": 162.715891,
     "end_time": "2024-06-18T16:01:30.789345",
     "exception": false,
     "start_time": "2024-06-18T15:58:48.073454",
     "status": "completed"
    },
    "tags": []
   },
   "outputs": [],
   "source": [
    "for label in Labels:\n",
    "    waves = [f for f in df['Wav'] if f.split('_')[-1].split('.')[0].lower()==label ]\n",
    "    for wav in waves:\n",
    "        array, sample_rate = librosa.load(wav,duration=2,offset=0.5)\n",
    "        spect = librosa.feature.melspectrogram(y=array, sr=sample_rate)\n",
    "        log_spect = librosa.power_to_db(spect, ref=np.max)\n",
    "        normalized_spect = z_score_normalize(log_spect)\n",
    "        if normalized_spect.shape[1]<87:\n",
    "            padded_spect = np.pad(normalized_spect, ((0, 0), (0, 87 - normalized_spect.shape[1])), mode='constant')\n",
    "        all_wave.append(padded_spect)\n",
    "        all_label.append(label)"
   ]
  },
  {
   "cell_type": "code",
   "execution_count": 9,
   "id": "b356ef10",
   "metadata": {
    "execution": {
     "iopub.execute_input": "2024-06-18T16:01:30.830945Z",
     "iopub.status.busy": "2024-06-18T16:01:30.829550Z",
     "iopub.status.idle": "2024-06-18T16:01:31.424968Z",
     "shell.execute_reply": "2024-06-18T16:01:31.424095Z"
    },
    "papermill": {
     "duration": 0.618168,
     "end_time": "2024-06-18T16:01:31.427181",
     "exception": false,
     "start_time": "2024-06-18T16:01:30.809013",
     "status": "completed"
    },
    "tags": []
   },
   "outputs": [
    {
     "data": {
      "text/html": [
       "<div>\n",
       "<style scoped>\n",
       "    .dataframe tbody tr th:only-of-type {\n",
       "        vertical-align: middle;\n",
       "    }\n",
       "\n",
       "    .dataframe tbody tr th {\n",
       "        vertical-align: top;\n",
       "    }\n",
       "\n",
       "    .dataframe thead th {\n",
       "        text-align: right;\n",
       "    }\n",
       "</style>\n",
       "<table border=\"1\" class=\"dataframe\">\n",
       "  <thead>\n",
       "    <tr style=\"text-align: right;\">\n",
       "      <th></th>\n",
       "      <th>Wav</th>\n",
       "      <th>Label</th>\n",
       "    </tr>\n",
       "  </thead>\n",
       "  <tbody>\n",
       "    <tr>\n",
       "      <th>0</th>\n",
       "      <td>[[1.581024, 1.9554887, 1.8089479, 1.3953493, 0...</td>\n",
       "      <td>fear</td>\n",
       "    </tr>\n",
       "    <tr>\n",
       "      <th>1</th>\n",
       "      <td>[[0.47383642, 0.5143044, 1.1568718, 1.5002575,...</td>\n",
       "      <td>fear</td>\n",
       "    </tr>\n",
       "    <tr>\n",
       "      <th>2</th>\n",
       "      <td>[[0.61552465, 0.76756084, 0.70798117, 0.496277...</td>\n",
       "      <td>fear</td>\n",
       "    </tr>\n",
       "    <tr>\n",
       "      <th>3</th>\n",
       "      <td>[[0.92969215, 0.4644548, 0.4594771, 0.7386553,...</td>\n",
       "      <td>fear</td>\n",
       "    </tr>\n",
       "    <tr>\n",
       "      <th>4</th>\n",
       "      <td>[[0.91467077, 1.1728826, 1.5311853, 1.449556, ...</td>\n",
       "      <td>fear</td>\n",
       "    </tr>\n",
       "  </tbody>\n",
       "</table>\n",
       "</div>"
      ],
      "text/plain": [
       "                                                 Wav Label\n",
       "0  [[1.581024, 1.9554887, 1.8089479, 1.3953493, 0...  fear\n",
       "1  [[0.47383642, 0.5143044, 1.1568718, 1.5002575,...  fear\n",
       "2  [[0.61552465, 0.76756084, 0.70798117, 0.496277...  fear\n",
       "3  [[0.92969215, 0.4644548, 0.4594771, 0.7386553,...  fear\n",
       "4  [[0.91467077, 1.1728826, 1.5311853, 1.449556, ...  fear"
      ]
     },
     "execution_count": 9,
     "metadata": {},
     "output_type": "execute_result"
    }
   ],
   "source": [
    "# Replace With new values\n",
    "df['Wav'] = all_wave\n",
    "df['Label'] = all_label\n",
    "df.head()"
   ]
  },
  {
   "cell_type": "markdown",
   "id": "77cbf181",
   "metadata": {
    "papermill": {
     "duration": 0.008406,
     "end_time": "2024-06-18T16:01:31.444639",
     "exception": false,
     "start_time": "2024-06-18T16:01:31.436233",
     "status": "completed"
    },
    "tags": []
   },
   "source": [
    "## Exploratory Data Analysis (EDA)."
   ]
  },
  {
   "cell_type": "code",
   "execution_count": 10,
   "id": "60a4c62b",
   "metadata": {
    "execution": {
     "iopub.execute_input": "2024-06-18T16:01:31.463288Z",
     "iopub.status.busy": "2024-06-18T16:01:31.462669Z",
     "iopub.status.idle": "2024-06-18T16:01:31.771704Z",
     "shell.execute_reply": "2024-06-18T16:01:31.770787Z"
    },
    "papermill": {
     "duration": 0.320644,
     "end_time": "2024-06-18T16:01:31.773708",
     "exception": false,
     "start_time": "2024-06-18T16:01:31.453064",
     "status": "completed"
    },
    "tags": []
   },
   "outputs": [
    {
     "data": {
      "text/plain": [
       "<Axes: xlabel='Label', ylabel='count'>"
      ]
     },
     "execution_count": 10,
     "metadata": {},
     "output_type": "execute_result"
    },
    {
     "data": {
      "image/png": "[encoded data removed]",
      "text/plain": [
       "<Figure size 640x480 with 1 Axes>"
      ]
     },
     "metadata": {},
     "output_type": "display_data"
    }
   ],
   "source": [
    "#Check if there is Unbalanced Classes\n",
    "sns.countplot(df,x='Label')"
   ]
  },
  {
   "cell_type": "code",
   "execution_count": 11,
   "id": "9b8ea25f",
   "metadata": {
    "execution": {
     "iopub.execute_input": "2024-06-18T16:01:31.793809Z",
     "iopub.status.busy": "2024-06-18T16:01:31.792957Z",
     "iopub.status.idle": "2024-06-18T16:01:31.881378Z",
     "shell.execute_reply": "2024-06-18T16:01:31.880474Z"
    },
    "papermill": {
     "duration": 0.100446,
     "end_time": "2024-06-18T16:01:31.883513",
     "exception": false,
     "start_time": "2024-06-18T16:01:31.783067",
     "status": "completed"
    },
    "tags": []
   },
   "outputs": [
    {
     "data": {
      "image/png": "[encoded data removed]",
      "text/plain": [
       "<Figure size 800x400 with 1 Axes>"
      ]
     },
     "metadata": {},
     "output_type": "display_data"
    }
   ],
   "source": [
    "#View some spectrograms to undersand the pattern \n",
    "plt.figure(figsize=(8,4))\n",
    "plt.title('mel spectrogram for ' + df['Label'][5500] +' sound')\n",
    "librosa.display.specshow(df['Wav'][5500])\n",
    "plt.show()"
   ]
  },
  {
   "cell_type": "code",
   "execution_count": 12,
   "id": "93214833",
   "metadata": {
    "execution": {
     "iopub.execute_input": "2024-06-18T16:01:31.904772Z",
     "iopub.status.busy": "2024-06-18T16:01:31.904472Z",
     "iopub.status.idle": "2024-06-18T16:01:31.910522Z",
     "shell.execute_reply": "2024-06-18T16:01:31.909620Z"
    },
    "papermill": {
     "duration": 0.01888,
     "end_time": "2024-06-18T16:01:31.912458",
     "exception": false,
     "start_time": "2024-06-18T16:01:31.893578",
     "status": "completed"
    },
    "tags": []
   },
   "outputs": [
    {
     "data": {
      "text/plain": [
       "(128, 87)"
      ]
     },
     "execution_count": 12,
     "metadata": {},
     "output_type": "execute_result"
    }
   ],
   "source": [
    "df['Wav'][0].shape"
   ]
  },
  {
   "cell_type": "markdown",
   "id": "c890da27",
   "metadata": {
    "papermill": {
     "duration": 0.009667,
     "end_time": "2024-06-18T16:01:31.931853",
     "exception": false,
     "start_time": "2024-06-18T16:01:31.922186",
     "status": "completed"
    },
    "tags": []
   },
   "source": [
    "## Label Encoding & One-hot encoding."
   ]
  },
  {
   "cell_type": "code",
   "execution_count": 13,
   "id": "c6845063",
   "metadata": {
    "execution": {
     "iopub.execute_input": "2024-06-18T16:01:31.953221Z",
     "iopub.status.busy": "2024-06-18T16:01:31.952383Z",
     "iopub.status.idle": "2024-06-18T16:01:31.962956Z",
     "shell.execute_reply": "2024-06-18T16:01:31.962085Z"
    },
    "papermill": {
     "duration": 0.023355,
     "end_time": "2024-06-18T16:01:31.964913",
     "exception": false,
     "start_time": "2024-06-18T16:01:31.941558",
     "status": "completed"
    },
    "tags": []
   },
   "outputs": [
    {
     "data": {
      "text/plain": [
       "['angry', 'disgust', 'fear', 'happy', 'neutral', 'ps', 'sad']"
      ]
     },
     "execution_count": 13,
     "metadata": {},
     "output_type": "execute_result"
    }
   ],
   "source": [
    "le = LabelEncoder()\n",
    "y = le.fit_transform(all_label)\n",
    "classes = list(le.classes_)\n",
    "classes"
   ]
  },
  {
   "cell_type": "code",
   "execution_count": 14,
   "id": "73d2f45e",
   "metadata": {
    "execution": {
     "iopub.execute_input": "2024-06-18T16:01:31.986027Z",
     "iopub.status.busy": "2024-06-18T16:01:31.985749Z",
     "iopub.status.idle": "2024-06-18T16:01:31.992401Z",
     "shell.execute_reply": "2024-06-18T16:01:31.991545Z"
    },
    "papermill": {
     "duration": 0.019547,
     "end_time": "2024-06-18T16:01:31.994364",
     "exception": false,
     "start_time": "2024-06-18T16:01:31.974817",
     "status": "completed"
    },
    "tags": []
   },
   "outputs": [
    {
     "data": {
      "text/plain": [
       "array([[0., 0., 1., ..., 0., 0., 0.],\n",
       "       [0., 0., 1., ..., 0., 0., 0.],\n",
       "       [0., 0., 1., ..., 0., 0., 0.],\n",
       "       ...,\n",
       "       [0., 0., 0., ..., 0., 0., 0.],\n",
       "       [0., 0., 0., ..., 0., 0., 0.],\n",
       "       [0., 0., 0., ..., 0., 0., 0.]])"
      ]
     },
     "execution_count": 14,
     "metadata": {},
     "output_type": "execute_result"
    }
   ],
   "source": [
    "y = to_categorical(y, num_classes=len(classes))\n",
    "y"
   ]
  },
  {
   "cell_type": "code",
   "execution_count": 15,
   "id": "cc638995",
   "metadata": {
    "execution": {
     "iopub.execute_input": "2024-06-18T16:01:32.015637Z",
     "iopub.status.busy": "2024-06-18T16:01:32.015352Z",
     "iopub.status.idle": "2024-06-18T16:01:32.233999Z",
     "shell.execute_reply": "2024-06-18T16:01:32.233152Z"
    },
    "papermill": {
     "duration": 0.232095,
     "end_time": "2024-06-18T16:01:32.236315",
     "exception": false,
     "start_time": "2024-06-18T16:01:32.004220",
     "status": "completed"
    },
    "tags": []
   },
   "outputs": [],
   "source": [
    "#Data Shuffeling and Spliting\n",
    "x_train, x_test, y_train, y_test = train_test_split(np.array(all_wave), np.array(y), test_size=0.2,shuffle=True,random_state=777,stratify=y)"
   ]
  },
  {
   "cell_type": "markdown",
   "id": "361c05b1",
   "metadata": {
    "papermill": {
     "duration": 0.01009,
     "end_time": "2024-06-18T16:01:32.257014",
     "exception": false,
     "start_time": "2024-06-18T16:01:32.246924",
     "status": "completed"
    },
    "tags": []
   },
   "source": [
    "## Model Design."
   ]
  },
  {
   "cell_type": "code",
   "execution_count": 16,
   "id": "fa66e9e7",
   "metadata": {
    "execution": {
     "iopub.execute_input": "2024-06-18T16:01:32.279828Z",
     "iopub.status.busy": "2024-06-18T16:01:32.279499Z",
     "iopub.status.idle": "2024-06-18T16:01:32.287794Z",
     "shell.execute_reply": "2024-06-18T16:01:32.286707Z"
    },
    "papermill": {
     "duration": 0.022273,
     "end_time": "2024-06-18T16:01:32.289963",
     "exception": false,
     "start_time": "2024-06-18T16:01:32.267690",
     "status": "completed"
    },
    "tags": []
   },
   "outputs": [
    {
     "data": {
      "text/plain": [
       "<KerasTensor shape=(None, 128, 87), dtype=float32, sparse=None, name=keras_tensor>"
      ]
     },
     "execution_count": 16,
     "metadata": {},
     "output_type": "execute_result"
    }
   ],
   "source": [
    "#Creating Input layer\n",
    "inputs = layers.Input(shape=(128,87))\n",
    "inputs"
   ]
  },
  {
   "cell_type": "code",
   "execution_count": 17,
   "id": "0ac0e2ed",
   "metadata": {
    "execution": {
     "iopub.execute_input": "2024-06-18T16:01:32.311992Z",
     "iopub.status.busy": "2024-06-18T16:01:32.311328Z",
     "iopub.status.idle": "2024-06-18T16:01:32.989515Z",
     "shell.execute_reply": "2024-06-18T16:01:32.988554Z"
    },
    "papermill": {
     "duration": 0.69149,
     "end_time": "2024-06-18T16:01:32.991613",
     "exception": false,
     "start_time": "2024-06-18T16:01:32.300123",
     "status": "completed"
    },
    "tags": []
   },
   "outputs": [],
   "source": [
    "#Creating 1D Convolutional Layer \n",
    "conv = Conv1D(8,13,padding='valid',activation='relu', strides=1)(inputs)\n",
    "conv = MaxPooling1D(3)(conv)\n",
    "conv = Dropout(0.3)(conv)"
   ]
  },
  {
   "cell_type": "code",
   "execution_count": 18,
   "id": "630a6ce9",
   "metadata": {
    "execution": {
     "iopub.execute_input": "2024-06-18T16:01:33.013647Z",
     "iopub.status.busy": "2024-06-18T16:01:33.013347Z",
     "iopub.status.idle": "2024-06-18T16:01:33.049419Z",
     "shell.execute_reply": "2024-06-18T16:01:33.048718Z"
    },
    "papermill": {
     "duration": 0.049049,
     "end_time": "2024-06-18T16:01:33.051299",
     "exception": false,
     "start_time": "2024-06-18T16:01:33.002250",
     "status": "completed"
    },
    "tags": []
   },
   "outputs": [],
   "source": [
    "#Creating Flatten layer\n",
    "conv = Flatten()(conv)\n",
    "#Creating 2 Dense Layers\n",
    "conv = Dense(256,activation='relu')(conv)\n",
    "conv = Dropout(0.3)(conv)\n",
    "conv = Dense(128,activation='relu')(conv)\n",
    "conv = Dropout(0.3)(conv)\n",
    "#Creating Output Layer\n",
    "outputs = Dense(len(Labels),activation='softmax')(conv)"
   ]
  },
  {
   "cell_type": "code",
   "execution_count": 19,
   "id": "2aa90b5e",
   "metadata": {
    "execution": {
     "iopub.execute_input": "2024-06-18T16:01:33.073151Z",
     "iopub.status.busy": "2024-06-18T16:01:33.072850Z",
     "iopub.status.idle": "2024-06-18T16:01:33.099956Z",
     "shell.execute_reply": "2024-06-18T16:01:33.099082Z"
    },
    "papermill": {
     "duration": 0.040175,
     "end_time": "2024-06-18T16:01:33.101796",
     "exception": false,
     "start_time": "2024-06-18T16:01:33.061621",
     "status": "completed"
    },
    "tags": []
   },
   "outputs": [
    {
     "data": {
      "text/html": [
       "<pre style=\"white-space:pre;overflow-x:auto;line-height:normal;font-family:Menlo,'DejaVu Sans Mono',consolas,'Courier New',monospace\"><span style=\"font-weight: bold\">Model: \"functional_1\"</span>\n",
       "</pre>\n"
      ],
      "text/plain": [
       "\u001b[1mModel: \"functional_1\"\u001b[0m\n"
      ]
     },
     "metadata": {},
     "output_type": "display_data"
    },
    {
     "data": {
      "text/html": [
       "<pre style=\"white-space:pre;overflow-x:auto;line-height:normal;font-family:Menlo,'DejaVu Sans Mono',consolas,'Courier New',monospace\">┏━━━━━━━━━━━━━━━━━━━━━━━━━━━━━━━━━┳━━━━━━━━━━━━━━━━━━━━━━━━┳━━━━━━━━━━━━━━━┓\n",
       "┃<span style=\"font-weight: bold\"> Layer (type)                    </span>┃<span style=\"font-weight: bold\"> Output Shape           </span>┃<span style=\"font-weight: bold\">       Param # </span>┃\n",
       "┡━━━━━━━━━━━━━━━━━━━━━━━━━━━━━━━━━╇━━━━━━━━━━━━━━━━━━━━━━━━╇━━━━━━━━━━━━━━━┩\n",
       "│ input_layer (<span style=\"color: #0087ff; text-decoration-color: #0087ff\">InputLayer</span>)        │ (<span style=\"color: #00d7ff; text-decoration-color: #00d7ff\">None</span>, <span style=\"color: #00af00; text-decoration-color: #00af00\">128</span>, <span style=\"color: #00af00; text-decoration-color: #00af00\">87</span>)        │             <span style=\"color: #00af00; text-decoration-color: #00af00\">0</span> │\n",
       "├─────────────────────────────────┼────────────────────────┼───────────────┤\n",
       "│ conv1d (<span style=\"color: #0087ff; text-decoration-color: #0087ff\">Conv1D</span>)                 │ (<span style=\"color: #00d7ff; text-decoration-color: #00d7ff\">None</span>, <span style=\"color: #00af00; text-decoration-color: #00af00\">116</span>, <span style=\"color: #00af00; text-decoration-color: #00af00\">8</span>)         │         <span style=\"color: #00af00; text-decoration-color: #00af00\">9,056</span> │\n",
       "├─────────────────────────────────┼────────────────────────┼───────────────┤\n",
       "│ max_pooling1d (<span style=\"color: #0087ff; text-decoration-color: #0087ff\">MaxPooling1D</span>)    │ (<span style=\"color: #00d7ff; text-decoration-color: #00d7ff\">None</span>, <span style=\"color: #00af00; text-decoration-color: #00af00\">38</span>, <span style=\"color: #00af00; text-decoration-color: #00af00\">8</span>)          │             <span style=\"color: #00af00; text-decoration-color: #00af00\">0</span> │\n",
       "├─────────────────────────────────┼────────────────────────┼───────────────┤\n",
       "│ dropout (<span style=\"color: #0087ff; text-decoration-color: #0087ff\">Dropout</span>)               │ (<span style=\"color: #00d7ff; text-decoration-color: #00d7ff\">None</span>, <span style=\"color: #00af00; text-decoration-color: #00af00\">38</span>, <span style=\"color: #00af00; text-decoration-color: #00af00\">8</span>)          │             <span style=\"color: #00af00; text-decoration-color: #00af00\">0</span> │\n",
       "├─────────────────────────────────┼────────────────────────┼───────────────┤\n",
       "│ flatten (<span style=\"color: #0087ff; text-decoration-color: #0087ff\">Flatten</span>)               │ (<span style=\"color: #00d7ff; text-decoration-color: #00d7ff\">None</span>, <span style=\"color: #00af00; text-decoration-color: #00af00\">304</span>)            │             <span style=\"color: #00af00; text-decoration-color: #00af00\">0</span> │\n",
       "├─────────────────────────────────┼────────────────────────┼───────────────┤\n",
       "│ dense (<span style=\"color: #0087ff; text-decoration-color: #0087ff\">Dense</span>)                   │ (<span style=\"color: #00d7ff; text-decoration-color: #00d7ff\">None</span>, <span style=\"color: #00af00; text-decoration-color: #00af00\">256</span>)            │        <span style=\"color: #00af00; text-decoration-color: #00af00\">78,080</span> │\n",
       "├─────────────────────────────────┼────────────────────────┼───────────────┤\n",
       "│ dropout_1 (<span style=\"color: #0087ff; text-decoration-color: #0087ff\">Dropout</span>)             │ (<span style=\"color: #00d7ff; text-decoration-color: #00d7ff\">None</span>, <span style=\"color: #00af00; text-decoration-color: #00af00\">256</span>)            │             <span style=\"color: #00af00; text-decoration-color: #00af00\">0</span> │\n",
       "├─────────────────────────────────┼────────────────────────┼───────────────┤\n",
       "│ dense_1 (<span style=\"color: #0087ff; text-decoration-color: #0087ff\">Dense</span>)                 │ (<span style=\"color: #00d7ff; text-decoration-color: #00d7ff\">None</span>, <span style=\"color: #00af00; text-decoration-color: #00af00\">128</span>)            │        <span style=\"color: #00af00; text-decoration-color: #00af00\">32,896</span> │\n",
       "├─────────────────────────────────┼────────────────────────┼───────────────┤\n",
       "│ dropout_2 (<span style=\"color: #0087ff; text-decoration-color: #0087ff\">Dropout</span>)             │ (<span style=\"color: #00d7ff; text-decoration-color: #00d7ff\">None</span>, <span style=\"color: #00af00; text-decoration-color: #00af00\">128</span>)            │             <span style=\"color: #00af00; text-decoration-color: #00af00\">0</span> │\n",
       "├─────────────────────────────────┼────────────────────────┼───────────────┤\n",
       "│ dense_2 (<span style=\"color: #0087ff; text-decoration-color: #0087ff\">Dense</span>)                 │ (<span style=\"color: #00d7ff; text-decoration-color: #00d7ff\">None</span>, <span style=\"color: #00af00; text-decoration-color: #00af00\">7</span>)              │           <span style=\"color: #00af00; text-decoration-color: #00af00\">903</span> │\n",
       "└─────────────────────────────────┴────────────────────────┴───────────────┘\n",
       "</pre>\n"
      ],
      "text/plain": [
       "┏━━━━━━━━━━━━━━━━━━━━━━━━━━━━━━━━━┳━━━━━━━━━━━━━━━━━━━━━━━━┳━━━━━━━━━━━━━━━┓\n",
       "┃\u001b[1m \u001b[0m\u001b[1mLayer (type)                   \u001b[0m\u001b[1m \u001b[0m┃\u001b[1m \u001b[0m\u001b[1mOutput Shape          \u001b[0m\u001b[1m \u001b[0m┃\u001b[1m \u001b[0m\u001b[1m      Param #\u001b[0m\u001b[1m \u001b[0m┃\n",
       "┡━━━━━━━━━━━━━━━━━━━━━━━━━━━━━━━━━╇━━━━━━━━━━━━━━━━━━━━━━━━╇━━━━━━━━━━━━━━━┩\n",
       "│ input_layer (\u001b[38;5;33mInputLayer\u001b[0m)        │ (\u001b[38;5;45mNone\u001b[0m, \u001b[38;5;34m128\u001b[0m, \u001b[38;5;34m87\u001b[0m)        │             \u001b[38;5;34m0\u001b[0m │\n",
       "├─────────────────────────────────┼────────────────────────┼───────────────┤\n",
       "│ conv1d (\u001b[38;5;33mConv1D\u001b[0m)                 │ (\u001b[38;5;45mNone\u001b[0m, \u001b[38;5;34m116\u001b[0m, \u001b[38;5;34m8\u001b[0m)         │         \u001b[38;5;34m9,056\u001b[0m │\n",
       "├─────────────────────────────────┼────────────────────────┼───────────────┤\n",
       "│ max_pooling1d (\u001b[38;5;33mMaxPooling1D\u001b[0m)    │ (\u001b[38;5;45mNone\u001b[0m, \u001b[38;5;34m38\u001b[0m, \u001b[38;5;34m8\u001b[0m)          │             \u001b[38;5;34m0\u001b[0m │\n",
       "├─────────────────────────────────┼────────────────────────┼───────────────┤\n",
       "│ dropout (\u001b[38;5;33mDropout\u001b[0m)               │ (\u001b[38;5;45mNone\u001b[0m, \u001b[38;5;34m38\u001b[0m, \u001b[38;5;34m8\u001b[0m)          │             \u001b[38;5;34m0\u001b[0m │\n",
       "├─────────────────────────────────┼────────────────────────┼───────────────┤\n",
       "│ flatten (\u001b[38;5;33mFlatten\u001b[0m)               │ (\u001b[38;5;45mNone\u001b[0m, \u001b[38;5;34m304\u001b[0m)            │             \u001b[38;5;34m0\u001b[0m │\n",
       "├─────────────────────────────────┼────────────────────────┼───────────────┤\n",
       "│ dense (\u001b[38;5;33mDense\u001b[0m)                   │ (\u001b[38;5;45mNone\u001b[0m, \u001b[38;5;34m256\u001b[0m)            │        \u001b[38;5;34m78,080\u001b[0m │\n",
       "├─────────────────────────────────┼────────────────────────┼───────────────┤\n",
       "│ dropout_1 (\u001b[38;5;33mDropout\u001b[0m)             │ (\u001b[38;5;45mNone\u001b[0m, \u001b[38;5;34m256\u001b[0m)            │             \u001b[38;5;34m0\u001b[0m │\n",
       "├─────────────────────────────────┼────────────────────────┼───────────────┤\n",
       "│ dense_1 (\u001b[38;5;33mDense\u001b[0m)                 │ (\u001b[38;5;45mNone\u001b[0m, \u001b[38;5;34m128\u001b[0m)            │        \u001b[38;5;34m32,896\u001b[0m │\n",
       "├─────────────────────────────────┼────────────────────────┼───────────────┤\n",
       "│ dropout_2 (\u001b[38;5;33mDropout\u001b[0m)             │ (\u001b[38;5;45mNone\u001b[0m, \u001b[38;5;34m128\u001b[0m)            │             \u001b[38;5;34m0\u001b[0m │\n",
       "├─────────────────────────────────┼────────────────────────┼───────────────┤\n",
       "│ dense_2 (\u001b[38;5;33mDense\u001b[0m)                 │ (\u001b[38;5;45mNone\u001b[0m, \u001b[38;5;34m7\u001b[0m)              │           \u001b[38;5;34m903\u001b[0m │\n",
       "└─────────────────────────────────┴────────────────────────┴───────────────┘\n"
      ]
     },
     "metadata": {},
     "output_type": "display_data"
    },
    {
     "data": {
      "text/html": [
       "<pre style=\"white-space:pre;overflow-x:auto;line-height:normal;font-family:Menlo,'DejaVu Sans Mono',consolas,'Courier New',monospace\"><span style=\"font-weight: bold\"> Total params: </span><span style=\"color: #00af00; text-decoration-color: #00af00\">120,935</span> (472.40 KB)\n",
       "</pre>\n"
      ],
      "text/plain": [
       "\u001b[1m Total params: \u001b[0m\u001b[38;5;34m120,935\u001b[0m (472.40 KB)\n"
      ]
     },
     "metadata": {},
     "output_type": "display_data"
    },
    {
     "data": {
      "text/html": [
       "<pre style=\"white-space:pre;overflow-x:auto;line-height:normal;font-family:Menlo,'DejaVu Sans Mono',consolas,'Courier New',monospace\"><span style=\"font-weight: bold\"> Trainable params: </span><span style=\"color: #00af00; text-decoration-color: #00af00\">120,935</span> (472.40 KB)\n",
       "</pre>\n"
      ],
      "text/plain": [
       "\u001b[1m Trainable params: \u001b[0m\u001b[38;5;34m120,935\u001b[0m (472.40 KB)\n"
      ]
     },
     "metadata": {},
     "output_type": "display_data"
    },
    {
     "data": {
      "text/html": [
       "<pre style=\"white-space:pre;overflow-x:auto;line-height:normal;font-family:Menlo,'DejaVu Sans Mono',consolas,'Courier New',monospace\"><span style=\"font-weight: bold\"> Non-trainable params: </span><span style=\"color: #00af00; text-decoration-color: #00af00\">0</span> (0.00 B)\n",
       "</pre>\n"
      ],
      "text/plain": [
       "\u001b[1m Non-trainable params: \u001b[0m\u001b[38;5;34m0\u001b[0m (0.00 B)\n"
      ]
     },
     "metadata": {},
     "output_type": "display_data"
    }
   ],
   "source": [
    "model = models.Model(inputs,outputs)\n",
    "model.summary()"
   ]
  },
  {
   "cell_type": "code",
   "execution_count": 20,
   "id": "a2e4c46f",
   "metadata": {
    "execution": {
     "iopub.execute_input": "2024-06-18T16:01:33.124993Z",
     "iopub.status.busy": "2024-06-18T16:01:33.124637Z",
     "iopub.status.idle": "2024-06-18T16:01:33.335718Z",
     "shell.execute_reply": "2024-06-18T16:01:33.334772Z"
    },
    "papermill": {
     "duration": 0.225307,
     "end_time": "2024-06-18T16:01:33.338115",
     "exception": false,
     "start_time": "2024-06-18T16:01:33.112808",
     "status": "completed"
    },
    "tags": []
   },
   "outputs": [
    {
     "data": {
      "image/png": "[encoded data removed]",
      "text/plain": [
       "<IPython.core.display.Image object>"
      ]
     },
     "execution_count": 20,
     "metadata": {},
     "output_type": "execute_result"
    }
   ],
   "source": [
    "plot_model(model)"
   ]
  },
  {
   "cell_type": "markdown",
   "id": "4fc84c0c",
   "metadata": {
    "papermill": {
     "duration": 0.01173,
     "end_time": "2024-06-18T16:01:33.362112",
     "exception": false,
     "start_time": "2024-06-18T16:01:33.350382",
     "status": "completed"
    },
    "tags": []
   },
   "source": [
    "## Trainig"
   ]
  },
  {
   "cell_type": "code",
   "execution_count": 21,
   "id": "ece45700",
   "metadata": {
    "execution": {
     "iopub.execute_input": "2024-06-18T16:01:33.387615Z",
     "iopub.status.busy": "2024-06-18T16:01:33.386960Z",
     "iopub.status.idle": "2024-06-18T16:01:33.400938Z",
     "shell.execute_reply": "2024-06-18T16:01:33.400243Z"
    },
    "papermill": {
     "duration": 0.028871,
     "end_time": "2024-06-18T16:01:33.402868",
     "exception": false,
     "start_time": "2024-06-18T16:01:33.373997",
     "status": "completed"
    },
    "tags": []
   },
   "outputs": [],
   "source": [
    "#Compile the model with categorical_crossentropy Loss function and adam Optimizer\n",
    "model.compile(loss='categorical_crossentropy',optimizer='adam',metrics=['accuracy'])"
   ]
  },
  {
   "cell_type": "code",
   "execution_count": 22,
   "id": "6ca19fc6",
   "metadata": {
    "execution": {
     "iopub.execute_input": "2024-06-18T16:01:33.428136Z",
     "iopub.status.busy": "2024-06-18T16:01:33.427846Z",
     "iopub.status.idle": "2024-06-18T16:01:53.437980Z",
     "shell.execute_reply": "2024-06-18T16:01:53.437123Z"
    },
    "papermill": {
     "duration": 20.025315,
     "end_time": "2024-06-18T16:01:53.440174",
     "exception": false,
     "start_time": "2024-06-18T16:01:33.414859",
     "status": "completed"
    },
    "tags": []
   },
   "outputs": [
    {
     "name": "stdout",
     "output_type": "stream",
     "text": [
      "Epoch 1/100\n",
      "\u001b[1m 62/140\u001b[0m \u001b[32m━━━━━━━━\u001b[0m\u001b[37m━━━━━━━━━━━━\u001b[0m \u001b[1m0s\u001b[0m 3ms/step - accuracy: 0.3381 - loss: 1.7990"
     ]
    },
    {
     "name": "stderr",
     "output_type": "stream",
     "text": [
      "WARNING: All log messages before absl::InitializeLog() is called are written to STDERR\n",
      "I0000 00:00:1718726500.926072      74 device_compiler.h:186] Compiled cluster using XLA!  This line is logged at most once for the lifetime of the process.\n"
     ]
    },
    {
     "name": "stdout",
     "output_type": "stream",
     "text": [
      "\u001b[1m127/140\u001b[0m \u001b[32m━━━━━━━━━━━━━━━━━━\u001b[0m\u001b[37m━━\u001b[0m \u001b[1m0s\u001b[0m 2ms/step - accuracy: 0.4779 - loss: 1.4290\n",
      "Epoch 1: val_accuracy improved from -inf to 0.95714, saving model to best_model.keras\n",
      "\u001b[1m140/140\u001b[0m \u001b[32m━━━━━━━━━━━━━━━━━━━━\u001b[0m\u001b[37m\u001b[0m \u001b[1m8s\u001b[0m 8ms/step - accuracy: 0.4989 - loss: 1.3734 - val_accuracy: 0.9571 - val_loss: 0.1494\n",
      "Epoch 2/100\n",
      "\u001b[1m129/140\u001b[0m \u001b[32m━━━━━━━━━━━━━━━━━━\u001b[0m\u001b[37m━━\u001b[0m \u001b[1m0s\u001b[0m 2ms/step - accuracy: 0.9177 - loss: 0.2361\n",
      "Epoch 2: val_accuracy improved from 0.95714 to 0.98214, saving model to best_model.keras\n",
      "\u001b[1m140/140\u001b[0m \u001b[32m━━━━━━━━━━━━━━━━━━━━\u001b[0m\u001b[37m\u001b[0m \u001b[1m0s\u001b[0m 3ms/step - accuracy: 0.9186 - loss: 0.2338 - val_accuracy: 0.9821 - val_loss: 0.0604\n",
      "Epoch 3/100\n",
      "\u001b[1m134/140\u001b[0m \u001b[32m━━━━━━━━━━━━━━━━━━━\u001b[0m\u001b[37m━\u001b[0m \u001b[1m0s\u001b[0m 2ms/step - accuracy: 0.9580 - loss: 0.1264\n",
      "Epoch 3: val_accuracy did not improve from 0.98214\n",
      "\u001b[1m140/140\u001b[0m \u001b[32m━━━━━━━━━━━━━━━━━━━━\u001b[0m\u001b[37m\u001b[0m \u001b[1m0s\u001b[0m 3ms/step - accuracy: 0.9581 - loss: 0.1257 - val_accuracy: 0.9821 - val_loss: 0.0580\n",
      "Epoch 4/100\n",
      "\u001b[1m134/140\u001b[0m \u001b[32m━━━━━━━━━━━━━━━━━━━\u001b[0m\u001b[37m━\u001b[0m \u001b[1m0s\u001b[0m 2ms/step - accuracy: 0.9662 - loss: 0.1125\n",
      "Epoch 4: val_accuracy improved from 0.98214 to 0.99107, saving model to best_model.keras\n",
      "\u001b[1m140/140\u001b[0m \u001b[32m━━━━━━━━━━━━━━━━━━━━\u001b[0m\u001b[37m\u001b[0m \u001b[1m0s\u001b[0m 3ms/step - accuracy: 0.9663 - loss: 0.1120 - val_accuracy: 0.9911 - val_loss: 0.0365\n",
      "Epoch 5/100\n",
      "\u001b[1m135/140\u001b[0m \u001b[32m━━━━━━━━━━━━━━━━━━━\u001b[0m\u001b[37m━\u001b[0m \u001b[1m0s\u001b[0m 2ms/step - accuracy: 0.9765 - loss: 0.0773\n",
      "Epoch 5: val_accuracy did not improve from 0.99107\n",
      "\u001b[1m140/140\u001b[0m \u001b[32m━━━━━━━━━━━━━━━━━━━━\u001b[0m\u001b[37m\u001b[0m \u001b[1m0s\u001b[0m 3ms/step - accuracy: 0.9765 - loss: 0.0776 - val_accuracy: 0.9911 - val_loss: 0.0251\n",
      "Epoch 6/100\n",
      "\u001b[1m134/140\u001b[0m \u001b[32m━━━━━━━━━━━━━━━━━━━\u001b[0m\u001b[37m━\u001b[0m \u001b[1m0s\u001b[0m 2ms/step - accuracy: 0.9757 - loss: 0.0689\n",
      "Epoch 6: val_accuracy improved from 0.99107 to 0.99554, saving model to best_model.keras\n",
      "\u001b[1m140/140\u001b[0m \u001b[32m━━━━━━━━━━━━━━━━━━━━\u001b[0m\u001b[37m\u001b[0m \u001b[1m0s\u001b[0m 3ms/step - accuracy: 0.9758 - loss: 0.0686 - val_accuracy: 0.9955 - val_loss: 0.0191\n",
      "Epoch 7/100\n",
      "\u001b[1m133/140\u001b[0m \u001b[32m━━━━━━━━━━━━━━━━━━━\u001b[0m\u001b[37m━\u001b[0m \u001b[1m0s\u001b[0m 2ms/step - accuracy: 0.9839 - loss: 0.0503\n",
      "Epoch 7: val_accuracy improved from 0.99554 to 0.99821, saving model to best_model.keras\n",
      "\u001b[1m140/140\u001b[0m \u001b[32m━━━━━━━━━━━━━━━━━━━━\u001b[0m\u001b[37m\u001b[0m \u001b[1m0s\u001b[0m 3ms/step - accuracy: 0.9841 - loss: 0.0496 - val_accuracy: 0.9982 - val_loss: 0.0054\n",
      "Epoch 8/100\n",
      "\u001b[1m134/140\u001b[0m \u001b[32m━━━━━━━━━━━━━━━━━━━\u001b[0m\u001b[37m━\u001b[0m \u001b[1m0s\u001b[0m 2ms/step - accuracy: 0.9898 - loss: 0.0374\n",
      "Epoch 8: val_accuracy did not improve from 0.99821\n",
      "\u001b[1m140/140\u001b[0m \u001b[32m━━━━━━━━━━━━━━━━━━━━\u001b[0m\u001b[37m\u001b[0m \u001b[1m0s\u001b[0m 3ms/step - accuracy: 0.9897 - loss: 0.0374 - val_accuracy: 0.9973 - val_loss: 0.0089\n",
      "Epoch 9/100\n",
      "\u001b[1m134/140\u001b[0m \u001b[32m━━━━━━━━━━━━━━━━━━━\u001b[0m\u001b[37m━\u001b[0m \u001b[1m0s\u001b[0m 2ms/step - accuracy: 0.9861 - loss: 0.0373\n",
      "Epoch 9: val_accuracy did not improve from 0.99821\n",
      "\u001b[1m140/140\u001b[0m \u001b[32m━━━━━━━━━━━━━━━━━━━━\u001b[0m\u001b[37m\u001b[0m \u001b[1m0s\u001b[0m 3ms/step - accuracy: 0.9861 - loss: 0.0374 - val_accuracy: 0.9937 - val_loss: 0.0186\n",
      "Epoch 10/100\n",
      "\u001b[1m133/140\u001b[0m \u001b[32m━━━━━━━━━━━━━━━━━━━\u001b[0m\u001b[37m━\u001b[0m \u001b[1m0s\u001b[0m 2ms/step - accuracy: 0.9881 - loss: 0.0389\n",
      "Epoch 10: val_accuracy did not improve from 0.99821\n",
      "\u001b[1m140/140\u001b[0m \u001b[32m━━━━━━━━━━━━━━━━━━━━\u001b[0m\u001b[37m\u001b[0m \u001b[1m0s\u001b[0m 3ms/step - accuracy: 0.9880 - loss: 0.0390 - val_accuracy: 0.9955 - val_loss: 0.0111\n",
      "Epoch 11/100\n",
      "\u001b[1m133/140\u001b[0m \u001b[32m━━━━━━━━━━━━━━━━━━━\u001b[0m\u001b[37m━\u001b[0m \u001b[1m0s\u001b[0m 2ms/step - accuracy: 0.9914 - loss: 0.0368\n",
      "Epoch 11: val_accuracy did not improve from 0.99821\n",
      "\u001b[1m140/140\u001b[0m \u001b[32m━━━━━━━━━━━━━━━━━━━━\u001b[0m\u001b[37m\u001b[0m \u001b[1m0s\u001b[0m 3ms/step - accuracy: 0.9913 - loss: 0.0368 - val_accuracy: 0.9955 - val_loss: 0.0152\n",
      "Epoch 12/100\n",
      "\u001b[1m127/140\u001b[0m \u001b[32m━━━━━━━━━━━━━━━━━━\u001b[0m\u001b[37m━━\u001b[0m \u001b[1m0s\u001b[0m 2ms/step - accuracy: 0.9881 - loss: 0.0358\n",
      "Epoch 12: val_accuracy did not improve from 0.99821\n",
      "\u001b[1m140/140\u001b[0m \u001b[32m━━━━━━━━━━━━━━━━━━━━\u001b[0m\u001b[37m\u001b[0m \u001b[1m0s\u001b[0m 3ms/step - accuracy: 0.9882 - loss: 0.0356 - val_accuracy: 0.9964 - val_loss: 0.0200\n",
      "Epoch 13/100\n",
      "\u001b[1m135/140\u001b[0m \u001b[32m━━━━━━━━━━━━━━━━━━━\u001b[0m\u001b[37m━\u001b[0m \u001b[1m0s\u001b[0m 2ms/step - accuracy: 0.9848 - loss: 0.0463\n",
      "Epoch 13: val_accuracy did not improve from 0.99821\n",
      "\u001b[1m140/140\u001b[0m \u001b[32m━━━━━━━━━━━━━━━━━━━━\u001b[0m\u001b[37m\u001b[0m \u001b[1m0s\u001b[0m 3ms/step - accuracy: 0.9848 - loss: 0.0466 - val_accuracy: 0.9973 - val_loss: 0.0112\n",
      "Epoch 14/100\n",
      "\u001b[1m134/140\u001b[0m \u001b[32m━━━━━━━━━━━━━━━━━━━\u001b[0m\u001b[37m━\u001b[0m \u001b[1m0s\u001b[0m 2ms/step - accuracy: 0.9905 - loss: 0.0300\n",
      "Epoch 14: val_accuracy did not improve from 0.99821\n",
      "\u001b[1m140/140\u001b[0m \u001b[32m━━━━━━━━━━━━━━━━━━━━\u001b[0m\u001b[37m\u001b[0m \u001b[1m0s\u001b[0m 3ms/step - accuracy: 0.9906 - loss: 0.0303 - val_accuracy: 0.9964 - val_loss: 0.0098\n",
      "Epoch 15/100\n",
      "\u001b[1m133/140\u001b[0m \u001b[32m━━━━━━━━━━━━━━━━━━━\u001b[0m\u001b[37m━\u001b[0m \u001b[1m0s\u001b[0m 2ms/step - accuracy: 0.9920 - loss: 0.0240\n",
      "Epoch 15: val_accuracy did not improve from 0.99821\n",
      "\u001b[1m140/140\u001b[0m \u001b[32m━━━━━━━━━━━━━━━━━━━━\u001b[0m\u001b[37m\u001b[0m \u001b[1m0s\u001b[0m 3ms/step - accuracy: 0.9920 - loss: 0.0244 - val_accuracy: 0.9964 - val_loss: 0.0060\n",
      "Epoch 16/100\n",
      "\u001b[1m134/140\u001b[0m \u001b[32m━━━━━━━━━━━━━━━━━━━\u001b[0m\u001b[37m━\u001b[0m \u001b[1m0s\u001b[0m 2ms/step - accuracy: 0.9932 - loss: 0.0163\n",
      "Epoch 16: val_accuracy improved from 0.99821 to 0.99911, saving model to best_model.keras\n",
      "\u001b[1m140/140\u001b[0m \u001b[32m━━━━━━━━━━━━━━━━━━━━\u001b[0m\u001b[37m\u001b[0m \u001b[1m0s\u001b[0m 3ms/step - accuracy: 0.9932 - loss: 0.0165 - val_accuracy: 0.9991 - val_loss: 0.0026\n",
      "Epoch 17/100\n",
      "\u001b[1m132/140\u001b[0m \u001b[32m━━━━━━━━━━━━━━━━━━\u001b[0m\u001b[37m━━\u001b[0m \u001b[1m0s\u001b[0m 2ms/step - accuracy: 0.9933 - loss: 0.0225\n",
      "Epoch 17: val_accuracy did not improve from 0.99911\n",
      "\u001b[1m140/140\u001b[0m \u001b[32m━━━━━━━━━━━━━━━━━━━━\u001b[0m\u001b[37m\u001b[0m \u001b[1m0s\u001b[0m 3ms/step - accuracy: 0.9933 - loss: 0.0224 - val_accuracy: 0.9991 - val_loss: 0.0019\n",
      "Epoch 18/100\n",
      "\u001b[1m134/140\u001b[0m \u001b[32m━━━━━━━━━━━━━━━━━━━\u001b[0m\u001b[37m━\u001b[0m \u001b[1m0s\u001b[0m 2ms/step - accuracy: 0.9960 - loss: 0.0124\n",
      "Epoch 18: val_accuracy did not improve from 0.99911\n",
      "\u001b[1m140/140\u001b[0m \u001b[32m━━━━━━━━━━━━━━━━━━━━\u001b[0m\u001b[37m\u001b[0m \u001b[1m0s\u001b[0m 3ms/step - accuracy: 0.9958 - loss: 0.0128 - val_accuracy: 0.9982 - val_loss: 0.0054\n",
      "Epoch 19/100\n",
      "\u001b[1m129/140\u001b[0m \u001b[32m━━━━━━━━━━━━━━━━━━\u001b[0m\u001b[37m━━\u001b[0m \u001b[1m0s\u001b[0m 2ms/step - accuracy: 0.9951 - loss: 0.0165\n",
      "Epoch 19: val_accuracy did not improve from 0.99911\n",
      "\u001b[1m140/140\u001b[0m \u001b[32m━━━━━━━━━━━━━━━━━━━━\u001b[0m\u001b[37m\u001b[0m \u001b[1m0s\u001b[0m 3ms/step - accuracy: 0.9949 - loss: 0.0171 - val_accuracy: 0.9973 - val_loss: 0.0084\n",
      "Epoch 20/100\n",
      "\u001b[1m132/140\u001b[0m \u001b[32m━━━━━━━━━━━━━━━━━━\u001b[0m\u001b[37m━━\u001b[0m \u001b[1m0s\u001b[0m 2ms/step - accuracy: 0.9846 - loss: 0.0481\n",
      "Epoch 20: val_accuracy did not improve from 0.99911\n",
      "\u001b[1m140/140\u001b[0m \u001b[32m━━━━━━━━━━━━━━━━━━━━\u001b[0m\u001b[37m\u001b[0m \u001b[1m0s\u001b[0m 3ms/step - accuracy: 0.9848 - loss: 0.0476 - val_accuracy: 0.9982 - val_loss: 0.0033\n",
      "Epoch 21/100\n",
      "\u001b[1m130/140\u001b[0m \u001b[32m━━━━━━━━━━━━━━━━━━\u001b[0m\u001b[37m━━\u001b[0m \u001b[1m0s\u001b[0m 2ms/step - accuracy: 0.9961 - loss: 0.0111\n",
      "Epoch 21: val_accuracy did not improve from 0.99911\n",
      "\u001b[1m140/140\u001b[0m \u001b[32m━━━━━━━━━━━━━━━━━━━━\u001b[0m\u001b[37m\u001b[0m \u001b[1m0s\u001b[0m 3ms/step - accuracy: 0.9959 - loss: 0.0123 - val_accuracy: 0.9973 - val_loss: 0.0121\n",
      "Epoch 22/100\n",
      "\u001b[1m130/140\u001b[0m \u001b[32m━━━━━━━━━━━━━━━━━━\u001b[0m\u001b[37m━━\u001b[0m \u001b[1m0s\u001b[0m 2ms/step - accuracy: 0.9940 - loss: 0.0237\n",
      "Epoch 22: val_accuracy did not improve from 0.99911\n",
      "\u001b[1m140/140\u001b[0m \u001b[32m━━━━━━━━━━━━━━━━━━━━\u001b[0m\u001b[37m\u001b[0m \u001b[1m0s\u001b[0m 3ms/step - accuracy: 0.9939 - loss: 0.0236 - val_accuracy: 0.9982 - val_loss: 0.0040\n",
      "Epoch 23/100\n",
      "\u001b[1m132/140\u001b[0m \u001b[32m━━━━━━━━━━━━━━━━━━\u001b[0m\u001b[37m━━\u001b[0m \u001b[1m0s\u001b[0m 2ms/step - accuracy: 0.9911 - loss: 0.0281\n",
      "Epoch 23: val_accuracy did not improve from 0.99911\n",
      "\u001b[1m140/140\u001b[0m \u001b[32m━━━━━━━━━━━━━━━━━━━━\u001b[0m\u001b[37m\u001b[0m \u001b[1m0s\u001b[0m 3ms/step - accuracy: 0.9910 - loss: 0.0282 - val_accuracy: 0.9937 - val_loss: 0.0124\n",
      "Epoch 24/100\n",
      "\u001b[1m133/140\u001b[0m \u001b[32m━━━━━━━━━━━━━━━━━━━\u001b[0m\u001b[37m━\u001b[0m \u001b[1m0s\u001b[0m 2ms/step - accuracy: 0.9970 - loss: 0.0120\n",
      "Epoch 24: val_accuracy did not improve from 0.99911\n",
      "\u001b[1m140/140\u001b[0m \u001b[32m━━━━━━━━━━━━━━━━━━━━\u001b[0m\u001b[37m\u001b[0m \u001b[1m0s\u001b[0m 3ms/step - accuracy: 0.9969 - loss: 0.0121 - val_accuracy: 0.9991 - val_loss: 0.0029\n",
      "Epoch 25/100\n",
      "\u001b[1m130/140\u001b[0m \u001b[32m━━━━━━━━━━━━━━━━━━\u001b[0m\u001b[37m━━\u001b[0m \u001b[1m0s\u001b[0m 2ms/step - accuracy: 0.9943 - loss: 0.0184\n",
      "Epoch 25: val_accuracy did not improve from 0.99911\n",
      "\u001b[1m140/140\u001b[0m \u001b[32m━━━━━━━━━━━━━━━━━━━━\u001b[0m\u001b[37m\u001b[0m \u001b[1m0s\u001b[0m 3ms/step - accuracy: 0.9942 - loss: 0.0190 - val_accuracy: 0.9955 - val_loss: 0.0130\n",
      "Epoch 26/100\n",
      "\u001b[1m131/140\u001b[0m \u001b[32m━━━━━━━━━━━━━━━━━━\u001b[0m\u001b[37m━━\u001b[0m \u001b[1m0s\u001b[0m 2ms/step - accuracy: 0.9942 - loss: 0.0198\n",
      "Epoch 26: val_accuracy did not improve from 0.99911\n",
      "\u001b[1m140/140\u001b[0m \u001b[32m━━━━━━━━━━━━━━━━━━━━\u001b[0m\u001b[37m\u001b[0m \u001b[1m0s\u001b[0m 3ms/step - accuracy: 0.9942 - loss: 0.0196 - val_accuracy: 0.9955 - val_loss: 0.0066\n",
      "Epoch 27/100\n",
      "\u001b[1m130/140\u001b[0m \u001b[32m━━━━━━━━━━━━━━━━━━\u001b[0m\u001b[37m━━\u001b[0m \u001b[1m0s\u001b[0m 2ms/step - accuracy: 0.9933 - loss: 0.0240\n",
      "Epoch 27: val_accuracy did not improve from 0.99911\n",
      "\u001b[1m140/140\u001b[0m \u001b[32m━━━━━━━━━━━━━━━━━━━━\u001b[0m\u001b[37m\u001b[0m \u001b[1m0s\u001b[0m 3ms/step - accuracy: 0.9934 - loss: 0.0241 - val_accuracy: 0.9920 - val_loss: 0.0178\n",
      "Epoch 27: early stopping\n",
      "Restoring model weights from the end of the best epoch: 17.\n"
     ]
    }
   ],
   "source": [
    "#Early stopping & callbacks setup\n",
    "es = callbacks.EarlyStopping(monitor='val_loss',mode='min',verbose=1,patience=10,restore_best_weights=True, min_delta=0.0001)\n",
    "mc = callbacks.ModelCheckpoint('best_model.keras',monitor='val_accuracy',mode='max',save_best_only=True,verbose=1)\n",
    "#Train the model with batch size 32 and 100 epochs and save the training data in history\n",
    "history = model.fit(x_train,y_train,epochs=100,callbacks=[es,mc],validation_data=(x_test,y_test),batch_size=32)"
   ]
  },
  {
   "cell_type": "markdown",
   "id": "582c3cbc",
   "metadata": {
    "papermill": {
     "duration": 0.033861,
     "end_time": "2024-06-18T16:01:53.507811",
     "exception": false,
     "start_time": "2024-06-18T16:01:53.473950",
     "status": "completed"
    },
    "tags": []
   },
   "source": [
    "## Evaluation"
   ]
  },
  {
   "cell_type": "code",
   "execution_count": 23,
   "id": "2eaa224b",
   "metadata": {
    "execution": {
     "iopub.execute_input": "2024-06-18T16:01:53.576904Z",
     "iopub.status.busy": "2024-06-18T16:01:53.576538Z",
     "iopub.status.idle": "2024-06-18T16:01:54.086248Z",
     "shell.execute_reply": "2024-06-18T16:01:54.085261Z"
    },
    "papermill": {
     "duration": 0.547196,
     "end_time": "2024-06-18T16:01:54.088567",
     "exception": false,
     "start_time": "2024-06-18T16:01:53.541371",
     "status": "completed"
    },
    "tags": []
   },
   "outputs": [
    {
     "data": {
      "image/png": "[encoded data removed]",
      "text/plain": [
       "<Figure size 600x600 with 1 Axes>"
      ]
     },
     "metadata": {},
     "output_type": "display_data"
    },
    {
     "data": {
      "image/png": "[encoded data removed]",
      "text/plain": [
       "<Figure size 600x600 with 1 Axes>"
      ]
     },
     "metadata": {},
     "output_type": "display_data"
    }
   ],
   "source": [
    "#Plotting Accuracy and Loss\n",
    "pyplot.subplots(figsize=(6,6))\n",
    "pyplot.plot(history.history['loss'])\n",
    "pyplot.plot(history.history['val_loss'])\n",
    "pyplot.title('model loss')\n",
    "pyplot.ylabel('loss')\n",
    "pyplot.xlabel('epoch')\n",
    "pyplot.legend(['train_loss', 'test_loss'], loc='upper left')\n",
    "pyplot.show()\n",
    "\n",
    "pyplot.subplots(figsize=(6,6))\n",
    "pyplot.plot(history.history['accuracy'])\n",
    "pyplot.plot(history.history['val_accuracy'])\n",
    "pyplot.title('model accuracy')\n",
    "pyplot.legend(['train_acc','val_acc'])\n",
    "pyplot.ylabel('accuracy')\n",
    "pyplot.xlabel('epoch')\n",
    "pyplot.show()\n",
    "\n"
   ]
  }
 ],
 "metadata": {
  "kaggle": {
   "accelerator": "gpu",
   "dataSources": [
    {
     "datasetId": 316368,
     "sourceId": 639622,
     "sourceType": "datasetVersion"
    }
   ],
   "dockerImageVersionId": 30732,
   "isGpuEnabled": true,
   "isInternetEnabled": true,
   "language": "python",
   "sourceType": "notebook"
  },
  "kernelspec": {
   "display_name": "Python 3",
   "language": "python",
   "name": "python3"
  },
  "language_info": {
   "codemirror_mode": {
    "name": "ipython",
    "version": 3
   },
   "file_extension": ".py",
   "mimetype": "text/x-python",
   "name": "python",
   "nbconvert_exporter": "python",
   "pygments_lexer": "ipython3",
   "version": "3.10.13"
  },
  "papermill": {
   "default_parameters": {},
   "duration": 208.302795,
   "end_time": "2024-06-18T16:01:57.728594",
   "environment_variables": {},
   "exception": null,
   "input_path": "__notebook__.ipynb",
   "output_path": "__notebook__.ipynb",
   "parameters": {},
   "start_time": "2024-06-18T15:58:29.425799",
   "version": "2.5.0"
  }
 },
 "nbformat": 4,
 "nbformat_minor": 5
}
